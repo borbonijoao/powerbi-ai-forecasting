{
  "nbformat": 4,
  "nbformat_minor": 0,
  "metadata": {
    "colab": {
      "provenance": [],
      "toc_visible": true,
      "authorship_tag": "ABX9TyMLcEzh+f1oJokGTbEJft2R",
      "include_colab_link": true
    },
    "kernelspec": {
      "name": "python3",
      "display_name": "Python 3"
    },
    "language_info": {
      "name": "python"
    }
  },
  "cells": [
    {
      "cell_type": "markdown",
      "metadata": {
        "id": "view-in-github",
        "colab_type": "text"
      },
      "source": [
        "<a href=\"https://colab.research.google.com/github/borbonijoao/powerbi-ai-forecasting/blob/main/notebooks/dataset_generator.ipynb\" target=\"_parent\"><img src=\"https://colab.research.google.com/assets/colab-badge.svg\" alt=\"Open In Colab\"/></a>"
      ]
    },
    {
      "cell_type": "code",
      "execution_count": 1,
      "metadata": {
        "id": "VjfekbFZjM5M",
        "outputId": "863f548c-f0e6-4eee-a602-298e10f2884a",
        "colab": {
          "base_uri": "https://localhost:8080/",
          "height": 384
        }
      },
      "outputs": [
        {
          "output_type": "error",
          "ename": "ModuleNotFoundError",
          "evalue": "No module named 'faker'",
          "traceback": [
            "\u001b[0;31m---------------------------------------------------------------------------\u001b[0m",
            "\u001b[0;31mModuleNotFoundError\u001b[0m                       Traceback (most recent call last)",
            "\u001b[0;32m<ipython-input-1-a11cffd0d76e>\u001b[0m in \u001b[0;36m<cell line: 0>\u001b[0;34m()\u001b[0m\n\u001b[1;32m      6\u001b[0m \u001b[0;32mimport\u001b[0m \u001b[0mpandas\u001b[0m \u001b[0;32mas\u001b[0m \u001b[0mpd\u001b[0m\u001b[0;34m\u001b[0m\u001b[0;34m\u001b[0m\u001b[0m\n\u001b[1;32m      7\u001b[0m \u001b[0;32mimport\u001b[0m \u001b[0mnumpy\u001b[0m \u001b[0;32mas\u001b[0m \u001b[0mnp\u001b[0m\u001b[0;34m\u001b[0m\u001b[0;34m\u001b[0m\u001b[0m\n\u001b[0;32m----> 8\u001b[0;31m \u001b[0;32mfrom\u001b[0m \u001b[0mfaker\u001b[0m \u001b[0;32mimport\u001b[0m \u001b[0mFaker\u001b[0m\u001b[0;34m\u001b[0m\u001b[0;34m\u001b[0m\u001b[0m\n\u001b[0m\u001b[1;32m      9\u001b[0m \u001b[0;34m\u001b[0m\u001b[0m\n\u001b[1;32m     10\u001b[0m \u001b[0;31m# Setup\u001b[0m\u001b[0;34m\u001b[0m\u001b[0;34m\u001b[0m\u001b[0m\n",
            "\u001b[0;31mModuleNotFoundError\u001b[0m: No module named 'faker'",
            "",
            "\u001b[0;31m---------------------------------------------------------------------------\u001b[0;32m\nNOTE: If your import is failing due to a missing package, you can\nmanually install dependencies using either !pip or !apt.\n\nTo view examples of installing some common dependencies, click the\n\"Open Examples\" button below.\n\u001b[0;31m---------------------------------------------------------------------------\u001b[0m\n"
          ],
          "errorDetails": {
            "actions": [
              {
                "action": "open_url",
                "actionText": "Open Examples",
                "url": "/notebooks/snippets/importing_libraries.ipynb"
              }
            ]
          }
        }
      ],
      "source": [
        "# Sales Forecasting Dataset Generator\n",
        "# Author: João Borboni\n",
        "# Description: This notebook simulates a realistic sales dataset\n",
        "# for use in forecasting and explainability projects with Power BI and Python.\n",
        "\n",
        "import pandas as pd\n",
        "import numpy as np\n",
        "from faker import Faker\n",
        "\n",
        "# Setup\n",
        "fake = Faker()\n",
        "np.random.seed(42)\n",
        "\n",
        "# Configuration\n",
        "months = pd.date_range(start=\"2022-01-01\", end=\"2023-12-01\", freq='MS')\n",
        "regions = ['North America', 'Europe', 'Asia Pacific', 'Latin America']\n",
        "segments = ['Consumer', 'Corporate', 'Home Office']\n",
        "categories = ['Technology', 'Office Supplies', 'Furniture']\n",
        "\n",
        "# Data generation\n",
        "data = []\n",
        "\n",
        "for date in months:\n",
        "    for _ in range(15):  # 15 transactions per month\n",
        "        region = np.random.choice(regions)\n",
        "        segment = np.random.choice(segments)\n",
        "        category = np.random.choice(categories)\n",
        "        units_sold = np.random.randint(10, 500)\n",
        "        unit_price = np.round(np.random.uniform(5, 100), 2)\n",
        "        discount_percent = np.round(np.random.choice([0, 0.05, 0.1, 0.15, 0.2, 0.25, 0.3]), 2)\n",
        "        revenue = units_sold * unit_price * (1 - discount_percent)\n",
        "\n",
        "        data.append({\n",
        "            'Date': date,\n",
        "            'Region': region,\n",
        "            'Segment': segment,\n",
        "            'Product_Category': category,\n",
        "            'Units_Sold': units_sold,\n",
        "            'Unit_Price': unit_price,\n",
        "            'Discount_Percent': discount_percent,\n",
        "            'Revenue': round(revenue, 2)\n",
        "        })\n",
        "\n",
        "# Create DataFrame\n",
        "df = pd.DataFrame(data)\n",
        "\n",
        "# Save to CSV\n",
        "output_path = 'data/raw/sales_forecasting_dataset.csv'\n",
        "df.to_csv(output_path, index=False)\n",
        "\n",
        "print(f\"Dataset generated with {len(df)} rows and saved to '{output_path}'\")\n",
        "df.head()"
      ]
    }
  ]
}
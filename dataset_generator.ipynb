{
  "nbformat": 4,
  "nbformat_minor": 0,
  "metadata": {
    "colab": {
      "provenance": [],
      "authorship_tag": "ABX9TyMLcEzh+f1oJokGTbEJft2R"
    },
    "kernelspec": {
      "name": "python3",
      "display_name": "Python 3"
    },
    "language_info": {
      "name": "python"
    }
  },
  "cells": [
    {
      "cell_type": "code",
      "execution_count": null,
      "metadata": {
        "id": "VjfekbFZjM5M"
      },
      "outputs": [],
      "source": [
        "# Sales Forecasting Dataset Generator\n",
        "# Author: João Borboni\n",
        "# Description: This notebook simulates a realistic sales dataset\n",
        "# for use in forecasting and explainability projects with Power BI and Python.\n",
        "\n",
        "import pandas as pd\n",
        "import numpy as np\n",
        "from faker import Faker\n",
        "\n",
        "# Setup\n",
        "fake = Faker()\n",
        "np.random.seed(42)\n",
        "\n",
        "# Configuration\n",
        "months = pd.date_range(start=\"2022-01-01\", end=\"2023-12-01\", freq='MS')\n",
        "regions = ['North America', 'Europe', 'Asia Pacific', 'Latin America']\n",
        "segments = ['Consumer', 'Corporate', 'Home Office']\n",
        "categories = ['Technology', 'Office Supplies', 'Furniture']\n",
        "\n",
        "# Data generation\n",
        "data = []\n",
        "\n",
        "for date in months:\n",
        "    for _ in range(15):  # 15 transactions per month\n",
        "        region = np.random.choice(regions)\n",
        "        segment = np.random.choice(segments)\n",
        "        category = np.random.choice(categories)\n",
        "        units_sold = np.random.randint(10, 500)\n",
        "        unit_price = np.round(np.random.uniform(5, 100), 2)\n",
        "        discount_percent = np.round(np.random.choice([0, 0.05, 0.1, 0.15, 0.2, 0.25, 0.3]), 2)\n",
        "        revenue = units_sold * unit_price * (1 - discount_percent)\n",
        "\n",
        "        data.append({\n",
        "            'Date': date,\n",
        "            'Region': region,\n",
        "            'Segment': segment,\n",
        "            'Product_Category': category,\n",
        "            'Units_Sold': units_sold,\n",
        "            'Unit_Price': unit_price,\n",
        "            'Discount_Percent': discount_percent,\n",
        "            'Revenue': round(revenue, 2)\n",
        "        })\n",
        "\n",
        "# Create DataFrame\n",
        "df = pd.DataFrame(data)\n",
        "\n",
        "# Save to CSV\n",
        "output_path = 'data/raw/sales_forecasting_dataset.csv'\n",
        "df.to_csv(output_path, index=False)\n",
        "\n",
        "print(f\"Dataset generated with {len(df)} rows and saved to '{output_path}'\")\n",
        "df.head()"
      ]
    }
  ]
}